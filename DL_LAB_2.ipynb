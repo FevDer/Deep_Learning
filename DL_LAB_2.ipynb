{
  "nbformat": 4,
  "nbformat_minor": 0,
  "metadata": {
    "colab": {
      "provenance": [],
      "authorship_tag": "ABX9TyMSnemd/rCRhA4sJ7B0xjRO",
      "include_colab_link": true
    },
    "kernelspec": {
      "name": "python3",
      "display_name": "Python 3"
    },
    "language_info": {
      "name": "python"
    }
  },
  "cells": [
    {
      "cell_type": "markdown",
      "metadata": {
        "id": "view-in-github",
        "colab_type": "text"
      },
      "source": [
        "<a href=\"https://colab.research.google.com/github/FevDer/Deep_Learning/blob/main/DL_LAB_2.ipynb\" target=\"_parent\"><img src=\"https://colab.research.google.com/assets/colab-badge.svg\" alt=\"Open In Colab\"/></a>"
      ]
    },
    {
      "cell_type": "code",
      "execution_count": null,
      "metadata": {
        "id": "BJSYAKJUfR9S"
      },
      "outputs": [],
      "source": []
    },
    {
      "cell_type": "markdown",
      "source": [
        "\n",
        ""
      ],
      "metadata": {
        "id": "F4L6GqhVfYWE"
      }
    },
    {
      "cell_type": "code",
      "source": [
        "# Importing torch\n",
        "import torch"
      ],
      "metadata": {
        "id": "swu7Cw6sprFH"
      },
      "execution_count": 1,
      "outputs": []
    },
    {
      "cell_type": "markdown",
      "source": [],
      "metadata": {
        "id": "KxA6uGPApnjG"
      }
    },
    {
      "cell_type": "code",
      "source": [
        "# manual seed\n",
        "torch.manual_seed(27)\n"
      ],
      "metadata": {
        "colab": {
          "base_uri": "https://localhost:8080/"
        },
        "id": "LT8ScwunfgAk",
        "outputId": "dbfa7528-a4a7-4107-9137-e6c1564db9b4"
      },
      "execution_count": 4,
      "outputs": [
        {
          "output_type": "execute_result",
          "data": {
            "text/plain": [
              "<torch._C.Generator at 0x7c554c77d5f0>"
            ]
          },
          "metadata": {},
          "execution_count": 4
        }
      ]
    },
    {
      "cell_type": "code",
      "source": [
        "class DenseLayer:\n",
        "  def __init__(self, features, nth_neurons):\n",
        "    # initialize weight and bias\n",
        "    self.weights = 0.01 * torch.rand(features, nth_neurons)\n",
        "    self.bias = torch.zeros((1, nth_neurons))\n",
        "\n",
        "  # forward pass\n",
        "  def forward(self, inputs):\n",
        "    # calculate output values from inputs, weights and biases\n",
        "    self.output = torch.matmul(inputs, self.weights) + self.bias\n"
      ],
      "metadata": {
        "id": "ECXT5bMvqH9f"
      },
      "execution_count": 5,
      "outputs": []
    },
    {
      "cell_type": "code",
      "source": [
        "# create dataset\n",
        "X = torch.rand(10, 5) # dataset with five features and ten rows."
      ],
      "metadata": {
        "id": "t9r6fkUwqNTN"
      },
      "execution_count": 6,
      "outputs": []
    },
    {
      "cell_type": "code",
      "source": [
        "# Create DenseLayer objects (3 for hidden layer & 1 for the output layer)\n",
        "layer1 = DenseLayer(5, 16)\n",
        "layer2 = DenseLayer(16, 16)\n",
        "layer3 = DenseLayer(16, 16)\n",
        "output_layer = DenseLayer(16, 5)"
      ],
      "metadata": {
        "id": "WqCBvOV-qPQ8"
      },
      "execution_count": 7,
      "outputs": []
    },
    {
      "cell_type": "code",
      "source": [
        "layer1.forward(X)\n",
        "layer2.forward(layer1.output)\n",
        "layer3.forward(layer2.output)\n",
        "output_layer.forward(layer3.output)\n",
        "output_layer.output"
      ],
      "metadata": {
        "colab": {
          "base_uri": "https://localhost:8080/"
        },
        "id": "qO5iXiN7qTdQ",
        "outputId": "6f7f6093-eb26-4651-d47b-58eaf1f366cd"
      },
      "execution_count": 8,
      "outputs": [
        {
          "output_type": "execute_result",
          "data": {
            "text/plain": [
              "tensor([[5.8559e-06, 5.0817e-06, 6.2944e-06, 5.6525e-06, 4.2980e-06],\n",
              "        [5.0637e-06, 4.3960e-06, 5.4434e-06, 4.8888e-06, 3.7175e-06],\n",
              "        [8.9583e-06, 7.7800e-06, 9.6280e-06, 8.6512e-06, 6.5706e-06],\n",
              "        [8.6970e-06, 7.5587e-06, 9.3488e-06, 8.4030e-06, 6.3837e-06],\n",
              "        [5.5455e-06, 4.8214e-06, 5.9632e-06, 5.3586e-06, 4.0683e-06],\n",
              "        [6.7401e-06, 5.8604e-06, 7.2440e-06, 6.5127e-06, 4.9449e-06],\n",
              "        [5.1521e-06, 4.4761e-06, 5.5364e-06, 4.9759e-06, 3.7777e-06],\n",
              "        [5.9113e-06, 5.1414e-06, 6.3552e-06, 5.7129e-06, 4.3384e-06],\n",
              "        [5.2775e-06, 4.5816e-06, 5.6738e-06, 5.0964e-06, 3.8760e-06],\n",
              "        [6.8202e-06, 5.9259e-06, 7.3336e-06, 6.5884e-06, 5.0105e-06]])"
            ]
          },
          "metadata": {},
          "execution_count": 8
        }
      ]
    }
  ]
}